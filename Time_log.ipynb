{
 "cells": [
  {
   "cell_type": "code",
   "execution_count": 87,
   "id": "58756ca8",
   "metadata": {},
   "outputs": [],
   "source": [
    "import time\n",
    "import matplotlib.pyplot as plt\n",
    "from collections import Counter\n",
    "\n",
    "# Define the decorator\n",
    "def execution_time_logger(func):\n",
    "    def wrapper(*args, **kwargs):\n",
    "        start_time = time.time()\n",
    "        result = func(*args, **kwargs)\n",
    "        end_time = time.time()\n",
    "        execution_time = end_time - start_time\n",
    "        #print(f\"{func.__name__} took {execution_time:.6f} seconds to execute\")\n",
    "        return execution_time\n",
    "    return wrapper\n",
    "\n",
    "# Apply the decorator to the word_count function\n",
    "@execution_time_logger\n",
    "def word_count_dict(text):\n",
    "    words = text.split()\n",
    "    word_counts = {}\n",
    "    for word in words:\n",
    "        word = word.strip(\".,!?\").lower()\n",
    "        if word in word_counts:\n",
    "            word_counts[word] += 1\n",
    "        else:\n",
    "            word_counts[word] = 1\n",
    "    return word_counts\n",
    "\n",
    "@execution_time_logger\n",
    "def word_count_Counter(text):\n",
    "    # Split the text into words using whitespace as a delimiter\n",
    "    words = text.split()\n",
    "\n",
    "    # Use Counter to count the appearances of each word\n",
    "    word_counts = Counter(words)\n",
    "\n",
    "    return word_counts\n",
    "\n"
   ]
  },
  {
   "cell_type": "code",
   "execution_count": 88,
   "id": "3cb96f88",
   "metadata": {},
   "outputs": [],
   "source": [
    "with open(\"shakespeare.txt\", 'r', encoding='utf-8') as file:\n",
    "    text = file.read()"
   ]
  },
  {
   "cell_type": "code",
   "execution_count": 89,
   "id": "8a86ea4b",
   "metadata": {},
   "outputs": [
    {
     "data": {
      "text/plain": [
       "5458198"
      ]
     },
     "execution_count": 89,
     "metadata": {},
     "output_type": "execute_result"
    }
   ],
   "source": [
    "len(text)"
   ]
  },
  {
   "cell_type": "code",
   "execution_count": 90,
   "id": "12131e03",
   "metadata": {},
   "outputs": [
    {
     "name": "stdout",
     "output_type": "stream",
     "text": [
      "0.22456908226013184\n"
     ]
    }
   ],
   "source": [
    "result = word_count_Counter(text)\n",
    "print(result)"
   ]
  },
  {
   "cell_type": "code",
   "execution_count": 93,
   "id": "3f9cb2d7",
   "metadata": {},
   "outputs": [
    {
     "name": "stdout",
     "output_type": "stream",
     "text": [
      "0.4569370746612549\n"
     ]
    }
   ],
   "source": [
    "result = word_count_dict(text)\n",
    "print(result)"
   ]
  },
  {
   "cell_type": "markdown",
   "id": "97c976d1",
   "metadata": {},
   "source": [
    "A Counter is a specialized data structure optimized for counting elements, while a dictionary is a general-purpose key-value data structure with various use cases beyond counting."
   ]
  },
  {
   "cell_type": "code",
   "execution_count": 92,
   "id": "38cd1bcb",
   "metadata": {},
   "outputs": [],
   "source": [
    "dict_time = []\n",
    "counter_time = []\n",
    "for i in range(100):\n",
    "    dict_time.append(word_count_dict(text))\n",
    "    counter_time.append(word_count_Counter(text))"
   ]
  },
  {
   "cell_type": "code",
   "execution_count": 95,
   "id": "282a5f63",
   "metadata": {},
   "outputs": [
    {
     "data": {
      "image/png": "[encoded data removed]",
      "text/plain": [
       "<Figure size 864x432 with 1 Axes>"
      ]
     },
     "metadata": {
      "needs_background": "light"
     },
     "output_type": "display_data"
    }
   ],
   "source": [
    "# Plot the distributions of execution times\n",
    "plt.figure(figsize=(12, 6))\n",
    "plt.hist(dict_time, alpha=0.5, label='Dictionary')\n",
    "plt.hist(counter_time, alpha=0.5, label='Counter')\n",
    "plt.xlabel('Execution Time (seconds)')\n",
    "plt.ylabel('Frequency')\n",
    "plt.legend()\n",
    "plt.title('Distributions of Execution Times for Word Counting')\n",
    "plt.show()"
   ]
  },
  {
   "cell_type": "code",
   "execution_count": null,
   "id": "b064d2dc",
   "metadata": {},
   "outputs": [],
   "source": []
  }
 ],
 "metadata": {
  "kernelspec": {
   "display_name": "Python 3",
   "language": "python",
   "name": "python3"
  },
  "language_info": {
   "codemirror_mode": {
    "name": "ipython",
    "version": 3
   },
   "file_extension": ".py",
   "mimetype": "text/x-python",
   "name": "python",
   "nbconvert_exporter": "python",
   "pygments_lexer": "ipython3",
   "version": "3.8.8"
  }
 },
 "nbformat": 4,
 "nbformat_minor": 5
}
